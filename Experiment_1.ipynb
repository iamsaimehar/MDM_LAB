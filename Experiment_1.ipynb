{
 "cells": [
  {
   "cell_type": "markdown",
   "id": "586135b8",
   "metadata": {},
   "source": [
    "# <p style=\"text-align: center;\">EXPERIMENT 1</p>"
   ]
  },
  {
   "cell_type": "code",
   "execution_count": 14,
   "id": "892a1e5e",
   "metadata": {},
   "outputs": [],
   "source": [
    "import tensorflow as tf\n",
    "import numpy as np"
   ]
  },
  {
   "cell_type": "code",
   "execution_count": 15,
   "id": "4350f953",
   "metadata": {},
   "outputs": [
    {
     "name": "stdout",
     "output_type": "stream",
     "text": [
      "TensorFlow Tensor:\n",
      " tf.Tensor(\n",
      "[[1. 2.]\n",
      " [3. 4.]], shape=(2, 2), dtype=float32)\n"
     ]
    }
   ],
   "source": [
    "# TensorFlow tensor creation\n",
    "tf_tensor = tf.constant([[1.0, 2.0], [3.0, 4.0]])\n",
    "print(\"TensorFlow Tensor:\\n\", tf_tensor)"
   ]
  },
  {
   "cell_type": "code",
   "execution_count": 16,
   "id": "3bae0ed7",
   "metadata": {},
   "outputs": [
    {
     "name": "stdout",
     "output_type": "stream",
     "text": [
      "NumPy Array:\n",
      " [[5. 6.]\n",
      " [7. 8.]]\n"
     ]
    }
   ],
   "source": [
    "# NumPy array creation\n",
    "np_array = np.array([[5.0, 6.0], [7.0, 8.0]])\n",
    "print(\"NumPy Array:\\n\", np_array)"
   ]
  },
  {
   "cell_type": "code",
   "execution_count": 17,
   "id": "e4c57306",
   "metadata": {},
   "outputs": [
    {
     "name": "stdout",
     "output_type": "stream",
     "text": [
      "Converted Tensor:\n",
      " tf.Tensor(\n",
      "[[5. 6.]\n",
      " [7. 8.]], shape=(2, 2), dtype=float64)\n"
     ]
    }
   ],
   "source": [
    "# Convert NumPy to TensorFlow tensor\n",
    "converted_tensor = tf.convert_to_tensor(np_array)\n",
    "print(\"Converted Tensor:\\n\", converted_tensor)"
   ]
  },
  {
   "cell_type": "code",
   "execution_count": 18,
   "id": "9ac20b1b",
   "metadata": {},
   "outputs": [
    {
     "name": "stdout",
     "output_type": "stream",
     "text": [
      "Add: [5. 7. 9.]\n",
      "Subtract: [-3. -3. -3.]\n",
      "Multiply: [ 4. 10. 18.]\n",
      "Divide: [0.25 0.4  0.5 ]\n",
      "Power: [1. 4. 9.]\n",
      "Exp: [ 2.7182817  7.389056  20.085537 ]\n",
      "Sqrt: [1.        1.4142135 1.7320508]\n"
     ]
    }
   ],
   "source": [
    "# Mathematical Operations\n",
    "a = tf.constant([1.0, 2.0, 3.0])\n",
    "b = tf.constant([4.0, 5.0, 6.0])\n",
    "\n",
    "print(\"Add:\", tf.add(a, b).numpy())\n",
    "print(\"Subtract:\", tf.subtract(a, b).numpy())\n",
    "print(\"Multiply:\", tf.multiply(a, b).numpy())\n",
    "print(\"Divide:\", tf.divide(a, b).numpy())\n",
    "print(\"Power:\", tf.pow(a, 2).numpy())\n",
    "print(\"Exp:\", tf.exp(a).numpy())\n",
    "print(\"Sqrt:\", tf.sqrt(a).numpy())"
   ]
  },
  {
   "cell_type": "code",
   "execution_count": 19,
   "id": "7aeb2e2f",
   "metadata": {},
   "outputs": [
    {
     "name": "stdout",
     "output_type": "stream",
     "text": [
      "Matrix Multiplication:\n",
      " [[19 22]\n",
      " [43 50]]\n",
      "Transpose:\n",
      " [[1 3]\n",
      " [2 4]]\n"
     ]
    }
   ],
   "source": [
    "# Matrix Operations\n",
    "mat1 = tf.constant([[1, 2], [3, 4]])\n",
    "mat2 = tf.constant([[5, 6], [7, 8]])\n",
    "\n",
    "# Matrix multiplication\n",
    "matmul_result = tf.matmul(mat1, mat2)\n",
    "print(\"Matrix Multiplication:\\n\", matmul_result.numpy())\n",
    "\n",
    "# Transpose\n",
    "transpose_result = tf.transpose(mat1)\n",
    "print(\"Transpose:\\n\", transpose_result.numpy())"
   ]
  },
  {
   "cell_type": "code",
   "execution_count": 20,
   "id": "354774ff",
   "metadata": {},
   "outputs": [
    {
     "name": "stdout",
     "output_type": "stream",
     "text": [
      "Reshaped Tensor:\n",
      " [[1 2]\n",
      " [3 4]\n",
      " [5 6]]\n",
      "Element at [0, 1]: 2\n",
      "First row: [1 2 3]\n",
      "Second column: [2 5]\n",
      "Reduced Sum: 21\n"
     ]
    }
   ],
   "source": [
    "tensor = tf.constant([[1, 2, 3], [4, 5, 6]])\n",
    "\n",
    "# Reshape\n",
    "reshaped = tf.reshape(tensor, [3, 2])\n",
    "print(\"Reshaped Tensor:\\n\", reshaped.numpy())\n",
    "\n",
    "# Indexing\n",
    "print(\"Element at [0, 1]:\", tensor[0, 1].numpy())\n",
    "\n",
    "# Slicing\n",
    "print(\"First row:\", tensor[0, :].numpy())\n",
    "print(\"Second column:\", tensor[:, 1].numpy())\n",
    "\n",
    "# Reduce sum\n",
    "reduced_sum = tf.reduce_sum(tensor)\n",
    "print(\"Reduced Sum:\", reduced_sum.numpy())"
   ]
  },
  {
   "cell_type": "code",
   "execution_count": 21,
   "id": "b8e128f3",
   "metadata": {},
   "outputs": [
    {
     "name": "stdout",
     "output_type": "stream",
     "text": [
      "Gradient of x^2 at x=3: 6.0\n"
     ]
    }
   ],
   "source": [
    "# Define a simple function f(x) = x^2\n",
    "x = tf.Variable(3.0)\n",
    "\n",
    "with tf.GradientTape() as tape:\n",
    "    y = x ** 2\n",
    "\n",
    "# Compute the gradient dy/dx\n",
    "grad = tape.gradient(y, x)\n",
    "print(\"Gradient of x^2 at x=3:\", grad.numpy())"
   ]
  }
 ],
 "metadata": {
  "kernelspec": {
   "display_name": "Python 3",
   "language": "python",
   "name": "python3"
  },
  "language_info": {
   "codemirror_mode": {
    "name": "ipython",
    "version": 3
   },
   "file_extension": ".py",
   "mimetype": "text/x-python",
   "name": "python",
   "nbconvert_exporter": "python",
   "pygments_lexer": "ipython3",
   "version": "3.12.1"
  }
 },
 "nbformat": 4,
 "nbformat_minor": 5
}
